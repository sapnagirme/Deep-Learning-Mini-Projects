{
  "cells": [
    {
      "cell_type": "markdown",
      "source": [
        "#Exploring Activation Functions in Deep Learning\n",
        "## Objective:\n",
        "Implement different activation functions (Sigmoid, Tanh, ReLU) in a single neural network and\n",
        "compare their performance on a basic image classification task (e.g., MNIST handwritten digits)"
      ],
      "metadata": {
        "id": "8LYOEpAmbsDC"
      },
      "id": "8LYOEpAmbsDC"
    },
    {
      "cell_type": "markdown",
      "source": [
        "##Downloading necessary library"
      ],
      "metadata": {
        "id": "uzaLbEHxb01b"
      },
      "id": "uzaLbEHxb01b"
    },
    {
      "cell_type": "code",
      "execution_count": null,
      "id": "44c82749-5bf9-4384-a4b5-48319e5b6aea",
      "metadata": {
        "colab": {
          "base_uri": "https://localhost:8080/"
        },
        "id": "44c82749-5bf9-4384-a4b5-48319e5b6aea",
        "outputId": "b295bd63-298f-4b3c-d380-444e50d2c479"
      },
      "outputs": [
        {
          "output_type": "stream",
          "name": "stdout",
          "text": [
            "Requirement already satisfied: tensorflow in /usr/local/lib/python3.10/dist-packages (2.17.0)\n",
            "Requirement already satisfied: absl-py>=1.0.0 in /usr/local/lib/python3.10/dist-packages (from tensorflow) (1.4.0)\n",
            "Requirement already satisfied: astunparse>=1.6.0 in /usr/local/lib/python3.10/dist-packages (from tensorflow) (1.6.3)\n",
            "Requirement already satisfied: flatbuffers>=24.3.25 in /usr/local/lib/python3.10/dist-packages (from tensorflow) (24.3.25)\n",
            "Requirement already satisfied: gast!=0.5.0,!=0.5.1,!=0.5.2,>=0.2.1 in /usr/local/lib/python3.10/dist-packages (from tensorflow) (0.6.0)\n",
            "Requirement already satisfied: google-pasta>=0.1.1 in /usr/local/lib/python3.10/dist-packages (from tensorflow) (0.2.0)\n",
            "Requirement already satisfied: h5py>=3.10.0 in /usr/local/lib/python3.10/dist-packages (from tensorflow) (3.11.0)\n",
            "Requirement already satisfied: libclang>=13.0.0 in /usr/local/lib/python3.10/dist-packages (from tensorflow) (18.1.1)\n",
            "Requirement already satisfied: ml-dtypes<0.5.0,>=0.3.1 in /usr/local/lib/python3.10/dist-packages (from tensorflow) (0.4.0)\n",
            "Requirement already satisfied: opt-einsum>=2.3.2 in /usr/local/lib/python3.10/dist-packages (from tensorflow) (3.3.0)\n",
            "Requirement already satisfied: packaging in /usr/local/lib/python3.10/dist-packages (from tensorflow) (24.1)\n",
            "Requirement already satisfied: protobuf!=4.21.0,!=4.21.1,!=4.21.2,!=4.21.3,!=4.21.4,!=4.21.5,<5.0.0dev,>=3.20.3 in /usr/local/lib/python3.10/dist-packages (from tensorflow) (3.20.3)\n",
            "Requirement already satisfied: requests<3,>=2.21.0 in /usr/local/lib/python3.10/dist-packages (from tensorflow) (2.32.3)\n",
            "Requirement already satisfied: setuptools in /usr/local/lib/python3.10/dist-packages (from tensorflow) (71.0.4)\n",
            "Requirement already satisfied: six>=1.12.0 in /usr/local/lib/python3.10/dist-packages (from tensorflow) (1.16.0)\n",
            "Requirement already satisfied: termcolor>=1.1.0 in /usr/local/lib/python3.10/dist-packages (from tensorflow) (2.4.0)\n",
            "Requirement already satisfied: typing-extensions>=3.6.6 in /usr/local/lib/python3.10/dist-packages (from tensorflow) (4.12.2)\n",
            "Requirement already satisfied: wrapt>=1.11.0 in /usr/local/lib/python3.10/dist-packages (from tensorflow) (1.16.0)\n",
            "Requirement already satisfied: grpcio<2.0,>=1.24.3 in /usr/local/lib/python3.10/dist-packages (from tensorflow) (1.64.1)\n",
            "Requirement already satisfied: tensorboard<2.18,>=2.17 in /usr/local/lib/python3.10/dist-packages (from tensorflow) (2.17.0)\n",
            "Requirement already satisfied: keras>=3.2.0 in /usr/local/lib/python3.10/dist-packages (from tensorflow) (3.4.1)\n",
            "Requirement already satisfied: tensorflow-io-gcs-filesystem>=0.23.1 in /usr/local/lib/python3.10/dist-packages (from tensorflow) (0.37.1)\n",
            "Requirement already satisfied: numpy<2.0.0,>=1.23.5 in /usr/local/lib/python3.10/dist-packages (from tensorflow) (1.26.4)\n",
            "Requirement already satisfied: wheel<1.0,>=0.23.0 in /usr/local/lib/python3.10/dist-packages (from astunparse>=1.6.0->tensorflow) (0.44.0)\n",
            "Requirement already satisfied: rich in /usr/local/lib/python3.10/dist-packages (from keras>=3.2.0->tensorflow) (13.7.1)\n",
            "Requirement already satisfied: namex in /usr/local/lib/python3.10/dist-packages (from keras>=3.2.0->tensorflow) (0.0.8)\n",
            "Requirement already satisfied: optree in /usr/local/lib/python3.10/dist-packages (from keras>=3.2.0->tensorflow) (0.12.1)\n",
            "Requirement already satisfied: charset-normalizer<4,>=2 in /usr/local/lib/python3.10/dist-packages (from requests<3,>=2.21.0->tensorflow) (3.3.2)\n",
            "Requirement already satisfied: idna<4,>=2.5 in /usr/local/lib/python3.10/dist-packages (from requests<3,>=2.21.0->tensorflow) (3.7)\n",
            "Requirement already satisfied: urllib3<3,>=1.21.1 in /usr/local/lib/python3.10/dist-packages (from requests<3,>=2.21.0->tensorflow) (2.0.7)\n",
            "Requirement already satisfied: certifi>=2017.4.17 in /usr/local/lib/python3.10/dist-packages (from requests<3,>=2.21.0->tensorflow) (2024.7.4)\n",
            "Requirement already satisfied: markdown>=2.6.8 in /usr/local/lib/python3.10/dist-packages (from tensorboard<2.18,>=2.17->tensorflow) (3.6)\n",
            "Requirement already satisfied: tensorboard-data-server<0.8.0,>=0.7.0 in /usr/local/lib/python3.10/dist-packages (from tensorboard<2.18,>=2.17->tensorflow) (0.7.2)\n",
            "Requirement already satisfied: werkzeug>=1.0.1 in /usr/local/lib/python3.10/dist-packages (from tensorboard<2.18,>=2.17->tensorflow) (3.0.3)\n",
            "Requirement already satisfied: MarkupSafe>=2.1.1 in /usr/local/lib/python3.10/dist-packages (from werkzeug>=1.0.1->tensorboard<2.18,>=2.17->tensorflow) (2.1.5)\n",
            "Requirement already satisfied: markdown-it-py>=2.2.0 in /usr/local/lib/python3.10/dist-packages (from rich->keras>=3.2.0->tensorflow) (3.0.0)\n",
            "Requirement already satisfied: pygments<3.0.0,>=2.13.0 in /usr/local/lib/python3.10/dist-packages (from rich->keras>=3.2.0->tensorflow) (2.16.1)\n",
            "Requirement already satisfied: mdurl~=0.1 in /usr/local/lib/python3.10/dist-packages (from markdown-it-py>=2.2.0->rich->keras>=3.2.0->tensorflow) (0.1.2)\n"
          ]
        }
      ],
      "source": [
        "!pip install tensorflow"
      ]
    },
    {
      "cell_type": "markdown",
      "source": [
        "## Load and preprocess the dataset"
      ],
      "metadata": {
        "id": "ps6kGK2bNSAP"
      },
      "id": "ps6kGK2bNSAP"
    },
    {
      "cell_type": "code",
      "source": [
        "import tensorflow as tf\n",
        "from tensorflow.keras.datasets import mnist\n",
        "from tensorflow.keras.utils import to_categorical\n",
        "\n",
        "(x_train, y_train), (x_test, y_test) = mnist.load_data()\n",
        "x_train, x_test = x_train / 255.0, x_test / 255.0\n",
        "y_train, y_test = to_categorical(y_train), to_categorical(y_test)"
      ],
      "metadata": {
        "id": "CC36XJtrvNxL",
        "colab": {
          "base_uri": "https://localhost:8080/"
        },
        "outputId": "3b59f91c-e1a2-46df-bec4-f4a76b828207"
      },
      "id": "CC36XJtrvNxL",
      "execution_count": null,
      "outputs": [
        {
          "output_type": "stream",
          "name": "stdout",
          "text": [
            "Downloading data from https://storage.googleapis.com/tensorflow/tf-keras-datasets/mnist.npz\n",
            "\u001b[1m11490434/11490434\u001b[0m \u001b[32m━━━━━━━━━━━━━━━━━━━━\u001b[0m\u001b[37m\u001b[0m \u001b[1m0s\u001b[0m 0us/step\n"
          ]
        }
      ]
    },
    {
      "cell_type": "code",
      "source": [
        "print(f\"Number of images in the training set: {x_train.shape[0]}\")\n",
        "print(f\"Number of images in the test set: {x_test.shape[0]}\")"
      ],
      "metadata": {
        "colab": {
          "base_uri": "https://localhost:8080/"
        },
        "id": "Bb09sLnMSnHF",
        "outputId": "58a7e921-2f15-4b61-9987-e2c1f1dd2649"
      },
      "id": "Bb09sLnMSnHF",
      "execution_count": null,
      "outputs": [
        {
          "output_type": "stream",
          "name": "stdout",
          "text": [
            "Number of images in the training set: 60000\n",
            "Number of images in the test set: 10000\n"
          ]
        }
      ]
    },
    {
      "cell_type": "markdown",
      "source": [
        "## Function to Create and train  neural network"
      ],
      "metadata": {
        "id": "4QZ48fVoNUTT"
      },
      "id": "4QZ48fVoNUTT"
    },
    {
      "cell_type": "code",
      "source": [
        "from tensorflow.keras import layers, models\n",
        "from tensorflow.keras.models import Sequential\n",
        "from tensorflow.keras.layers import Dense, Flatten\n",
        "\n",
        "def ct_model(activation_function):\n",
        "    model = models.Sequential([\n",
        "        layers.Flatten(input_shape=(28, 28)),\n",
        "        layers.Dense(128, activation=activation_function),\n",
        "        layers.Dense(10, activation='softmax')\n",
        "    ])\n",
        "    model.compile(optimizer='adam', loss='categorical_crossentropy', metrics=['accuracy'])\n",
        "    model.fit(x_train, y_train, epochs=5, batch_size=128, verbose=1, validation_data=(x_test, y_test))\n",
        "    return model"
      ],
      "metadata": {
        "id": "iE8VOfXzvkm-"
      },
      "id": "iE8VOfXzvkm-",
      "execution_count": null,
      "outputs": []
    },
    {
      "cell_type": "markdown",
      "source": [
        "## Train model with different activation functions"
      ],
      "metadata": {
        "id": "SBGe-a8XNYLy"
      },
      "id": "SBGe-a8XNYLy"
    },
    {
      "cell_type": "markdown",
      "source": [
        "##**Sigmoid**"
      ],
      "metadata": {
        "id": "32RzmKindtft"
      },
      "id": "32RzmKindtft"
    },
    {
      "cell_type": "code",
      "source": [
        "model_sigmoid = ct_model('sigmoid')"
      ],
      "metadata": {
        "colab": {
          "base_uri": "https://localhost:8080/"
        },
        "id": "-bDjGctA7VSZ",
        "outputId": "ec36e662-640f-4968-b117-e72d8855a0a4"
      },
      "id": "-bDjGctA7VSZ",
      "execution_count": null,
      "outputs": [
        {
          "output_type": "stream",
          "name": "stderr",
          "text": [
            "/usr/local/lib/python3.10/dist-packages/keras/src/layers/reshaping/flatten.py:37: UserWarning: Do not pass an `input_shape`/`input_dim` argument to a layer. When using Sequential models, prefer using an `Input(shape)` object as the first layer in the model instead.\n",
            "  super().__init__(**kwargs)\n"
          ]
        },
        {
          "output_type": "stream",
          "name": "stdout",
          "text": [
            "Epoch 1/5\n",
            "\u001b[1m469/469\u001b[0m \u001b[32m━━━━━━━━━━━━━━━━━━━━\u001b[0m\u001b[37m\u001b[0m \u001b[1m5s\u001b[0m 8ms/step - accuracy: 0.7836 - loss: 0.9363 - val_accuracy: 0.9172 - val_loss: 0.3014\n",
            "Epoch 2/5\n",
            "\u001b[1m469/469\u001b[0m \u001b[32m━━━━━━━━━━━━━━━━━━━━\u001b[0m\u001b[37m\u001b[0m \u001b[1m3s\u001b[0m 6ms/step - accuracy: 0.9187 - loss: 0.2921 - val_accuracy: 0.9348 - val_loss: 0.2312\n",
            "Epoch 3/5\n",
            "\u001b[1m469/469\u001b[0m \u001b[32m━━━━━━━━━━━━━━━━━━━━\u001b[0m\u001b[37m\u001b[0m \u001b[1m2s\u001b[0m 4ms/step - accuracy: 0.9390 - loss: 0.2180 - val_accuracy: 0.9441 - val_loss: 0.1966\n",
            "Epoch 4/5\n",
            "\u001b[1m469/469\u001b[0m \u001b[32m━━━━━━━━━━━━━━━━━━━━\u001b[0m\u001b[37m\u001b[0m \u001b[1m2s\u001b[0m 5ms/step - accuracy: 0.9487 - loss: 0.1831 - val_accuracy: 0.9490 - val_loss: 0.1701\n",
            "Epoch 5/5\n",
            "\u001b[1m469/469\u001b[0m \u001b[32m━━━━━━━━━━━━━━━━━━━━\u001b[0m\u001b[37m\u001b[0m \u001b[1m2s\u001b[0m 5ms/step - accuracy: 0.9553 - loss: 0.1609 - val_accuracy: 0.9554 - val_loss: 0.1543\n"
          ]
        }
      ]
    },
    {
      "cell_type": "markdown",
      "source": [
        "##**Tanh**"
      ],
      "metadata": {
        "id": "xbfiqmEGeiEq"
      },
      "id": "xbfiqmEGeiEq"
    },
    {
      "cell_type": "code",
      "source": [
        "model_tanh = ct_model('tanh')"
      ],
      "metadata": {
        "colab": {
          "base_uri": "https://localhost:8080/"
        },
        "id": "GwJ84H7x-BOz",
        "outputId": "0aab6fee-ce1e-4941-8e6a-b8db620baed9"
      },
      "id": "GwJ84H7x-BOz",
      "execution_count": null,
      "outputs": [
        {
          "output_type": "stream",
          "name": "stdout",
          "text": [
            "Epoch 1/5\n",
            "\u001b[1m469/469\u001b[0m \u001b[32m━━━━━━━━━━━━━━━━━━━━\u001b[0m\u001b[37m\u001b[0m \u001b[1m4s\u001b[0m 6ms/step - accuracy: 0.8288 - loss: 0.6140 - val_accuracy: 0.9346 - val_loss: 0.2275\n",
            "Epoch 2/5\n",
            "\u001b[1m469/469\u001b[0m \u001b[32m━━━━━━━━━━━━━━━━━━━━\u001b[0m\u001b[37m\u001b[0m \u001b[1m4s\u001b[0m 3ms/step - accuracy: 0.9400 - loss: 0.2147 - val_accuracy: 0.9498 - val_loss: 0.1679\n",
            "Epoch 3/5\n",
            "\u001b[1m469/469\u001b[0m \u001b[32m━━━━━━━━━━━━━━━━━━━━\u001b[0m\u001b[37m\u001b[0m \u001b[1m3s\u001b[0m 4ms/step - accuracy: 0.9569 - loss: 0.1518 - val_accuracy: 0.9614 - val_loss: 0.1342\n",
            "Epoch 4/5\n",
            "\u001b[1m469/469\u001b[0m \u001b[32m━━━━━━━━━━━━━━━━━━━━\u001b[0m\u001b[37m\u001b[0m \u001b[1m3s\u001b[0m 4ms/step - accuracy: 0.9665 - loss: 0.1190 - val_accuracy: 0.9642 - val_loss: 0.1152\n",
            "Epoch 5/5\n",
            "\u001b[1m469/469\u001b[0m \u001b[32m━━━━━━━━━━━━━━━━━━━━\u001b[0m\u001b[37m\u001b[0m \u001b[1m3s\u001b[0m 6ms/step - accuracy: 0.9732 - loss: 0.0956 - val_accuracy: 0.9683 - val_loss: 0.1024\n"
          ]
        }
      ]
    },
    {
      "cell_type": "markdown",
      "source": [
        "##**Relu**"
      ],
      "metadata": {
        "id": "_NeHV0m1ekqf"
      },
      "id": "_NeHV0m1ekqf"
    },
    {
      "cell_type": "code",
      "source": [
        "model_relu = ct_model('relu')"
      ],
      "metadata": {
        "colab": {
          "base_uri": "https://localhost:8080/"
        },
        "id": "pIqSZfPw-BEU",
        "outputId": "a121424d-c38c-4474-c8e6-f39a2a5109ca"
      },
      "id": "pIqSZfPw-BEU",
      "execution_count": null,
      "outputs": [
        {
          "output_type": "stream",
          "name": "stdout",
          "text": [
            "Epoch 1/5\n",
            "\u001b[1m469/469\u001b[0m \u001b[32m━━━━━━━━━━━━━━━━━━━━\u001b[0m\u001b[37m\u001b[0m \u001b[1m3s\u001b[0m 4ms/step - accuracy: 0.8314 - loss: 0.6139 - val_accuracy: 0.9448 - val_loss: 0.1916\n",
            "Epoch 2/5\n",
            "\u001b[1m469/469\u001b[0m \u001b[32m━━━━━━━━━━━━━━━━━━━━\u001b[0m\u001b[37m\u001b[0m \u001b[1m2s\u001b[0m 3ms/step - accuracy: 0.9506 - loss: 0.1753 - val_accuracy: 0.9586 - val_loss: 0.1388\n",
            "Epoch 3/5\n",
            "\u001b[1m469/469\u001b[0m \u001b[32m━━━━━━━━━━━━━━━━━━━━\u001b[0m\u001b[37m\u001b[0m \u001b[1m3s\u001b[0m 3ms/step - accuracy: 0.9650 - loss: 0.1201 - val_accuracy: 0.9687 - val_loss: 0.1074\n",
            "Epoch 4/5\n",
            "\u001b[1m469/469\u001b[0m \u001b[32m━━━━━━━━━━━━━━━━━━━━\u001b[0m\u001b[37m\u001b[0m \u001b[1m3s\u001b[0m 6ms/step - accuracy: 0.9745 - loss: 0.0903 - val_accuracy: 0.9715 - val_loss: 0.0951\n",
            "Epoch 5/5\n",
            "\u001b[1m469/469\u001b[0m \u001b[32m━━━━━━━━━━━━━━━━━━━━\u001b[0m\u001b[37m\u001b[0m \u001b[1m4s\u001b[0m 3ms/step - accuracy: 0.9785 - loss: 0.0721 - val_accuracy: 0.9727 - val_loss: 0.0914\n"
          ]
        }
      ]
    },
    {
      "cell_type": "markdown",
      "source": [
        "## Evaluate the model"
      ],
      "metadata": {
        "id": "s532aGPWNdcO"
      },
      "id": "s532aGPWNdcO"
    },
    {
      "cell_type": "code",
      "source": [
        "def evaluate_model(model):\n",
        "    test_loss, test_accuracy = model.evaluate(x_test, y_test, verbose=0)\n",
        "    return test_accuracy"
      ],
      "metadata": {
        "id": "4Qawlatg_gw4"
      },
      "id": "4Qawlatg_gw4",
      "execution_count": null,
      "outputs": []
    },
    {
      "cell_type": "code",
      "source": [
        "print(\"Accuracy of Sigmoid Model:\",evaluate_model(model_sigmoid))\n",
        "print(\"Accuracy of Tanh Model:\",evaluate_model(model_tanh))\n",
        "print(\"Accuracy of ReLU Model:\",evaluate_model(model_relu))"
      ],
      "metadata": {
        "colab": {
          "base_uri": "https://localhost:8080/"
        },
        "id": "nUx0QY7-_gti",
        "outputId": "e74e8a0c-d7ea-4a84-913c-6f66fc5c7b72"
      },
      "id": "nUx0QY7-_gti",
      "execution_count": null,
      "outputs": [
        {
          "output_type": "stream",
          "name": "stdout",
          "text": [
            "Accuracy of Sigmoid Model: 0.9553999900817871\n",
            "Accuracy of Tanh Model: 0.9682999849319458\n",
            "Accuracy of ReLU Model: 0.9726999998092651\n"
          ]
        }
      ]
    },
    {
      "cell_type": "markdown",
      "source": [
        "##Visualization of accuracy of different activation function"
      ],
      "metadata": {
        "id": "oLQdDGSMdELZ"
      },
      "id": "oLQdDGSMdELZ"
    },
    {
      "cell_type": "code",
      "source": [
        "models = ['Sigmoid', 'Tanh', 'ReLU']\n",
        "accuracy_sigmoid = evaluate_model(model_sigmoid)\n",
        "accuracy_tanh = evaluate_model(model_tanh)\n",
        "accuracy_relu = evaluate_model(model_relu)\n",
        "accuracies = [accuracy_sigmoid, accuracy_tanh, accuracy_relu]\n",
        "\n",
        "plt.figure(figsize=(6, 6))\n",
        "plt.bar(models, accuracies,color=['blue', 'orange', 'green'],width=0.5)\n",
        "plt.xlabel('Activation Function')\n",
        "plt.ylabel('Test Accuracy')\n",
        "plt.title('Comparison of Activation Functions on MNIST Dataset')\n",
        "plt.ylim([0.9, 1.0])\n",
        "\n",
        "for i, bar in enumerate(bars):\n",
        "    height = bar.get_height()\n",
        "    plt.text(bar.get_x() + bar.get_width() / 2, height + 0.002, f'{accuracies[i]:.4f}', ha='center', fontsize=11)\n",
        "plt.show()"
      ],
      "metadata": {
        "colab": {
          "base_uri": "https://localhost:8080/",
          "height": 564
        },
        "id": "RRlo5X1HYJVJ",
        "outputId": "48bda741-915b-468c-8522-d25ee2395d78"
      },
      "id": "RRlo5X1HYJVJ",
      "execution_count": null,
      "outputs": [
        {
          "output_type": "display_data",
          "data": {
            "text/plain": [
              "<Figure size 600x600 with 1 Axes>"
            ],
            "image/png": "[encoded data removed]"
          },
          "metadata": {}
        }
      ]
    },
    {
      "cell_type": "markdown",
      "source": [
        "###ReLU acheived the highest accuracy with **97.27%**"
      ],
      "metadata": {
        "id": "5gyhlKTjdmhf"
      },
      "id": "5gyhlKTjdmhf"
    },
    {
      "cell_type": "markdown",
      "source": [
        "## Prediction"
      ],
      "metadata": {
        "id": "PpkzNcN2gCFa"
      },
      "id": "PpkzNcN2gCFa"
    },
    {
      "cell_type": "code",
      "source": [
        "import numpy as np\n",
        "import matplotlib.pyplot as plt\n",
        "\n",
        "image_index = 507\n",
        "image = x_test[image_index].reshape(1, 28, 28)\n",
        "\n",
        "predicted_class_sigmoid = np.argmax(model_sigmoid.predict(image))\n",
        "predicted_class_tanh = np.argmax(model_tanh.predict(image))\n",
        "predicted_class_relu = np.argmax(model_relu.predict(image))\n",
        "\n",
        "true_label = np.argmax(y_test[image_index])\n",
        "plt.figure(figsize=(3, 3))\n",
        "plt.imshow(x_test[image_index].reshape(28, 28), cmap='gray')\n",
        "plt.axis('off')\n",
        "plt.title(f\"True: {true_label}\\n\"\n",
        "          f\"Sigmoid: {predicted_class_sigmoid}\\n\"\n",
        "          f\"Tanh: {predicted_class_tanh}\\n\"\n",
        "          f\"ReLU: {predicted_class_relu}\")\n",
        "plt.show()"
      ],
      "metadata": {
        "colab": {
          "base_uri": "https://localhost:8080/",
          "height": 406
        },
        "id": "LKy-rKr5hwL5",
        "outputId": "151ab0d1-317d-4516-ad64-686d6aa2d4a0"
      },
      "id": "LKy-rKr5hwL5",
      "execution_count": null,
      "outputs": [
        {
          "output_type": "stream",
          "name": "stdout",
          "text": [
            "\u001b[1m1/1\u001b[0m \u001b[32m━━━━━━━━━━━━━━━━━━━━\u001b[0m\u001b[37m\u001b[0m \u001b[1m0s\u001b[0m 88ms/step\n",
            "\u001b[1m1/1\u001b[0m \u001b[32m━━━━━━━━━━━━━━━━━━━━\u001b[0m\u001b[37m\u001b[0m \u001b[1m0s\u001b[0m 43ms/step\n",
            "\u001b[1m1/1\u001b[0m \u001b[32m━━━━━━━━━━━━━━━━━━━━\u001b[0m\u001b[37m\u001b[0m \u001b[1m0s\u001b[0m 45ms/step\n"
          ]
        },
        {
          "output_type": "display_data",
          "data": {
            "text/plain": [
              "<Figure size 300x300 with 1 Axes>"
            ],
            "image/png": "[encoded data removed]"
          },
          "metadata": {}
        }
      ]
    },
    {
      "cell_type": "markdown",
      "source": [
        "**The ReLU model correctly identified the true label (3), demonstrating the best performance among the three models, while the Sigmoid and Tanh models misclassified the image as 5 and 8, respectively, highlighting the ReLU model’s superior accuracy in this case.**"
      ],
      "metadata": {
        "id": "yhqgkvLzo9aH"
      },
      "id": "yhqgkvLzo9aH"
    },
    {
      "cell_type": "markdown",
      "source": [
        "## **Conclusion**\n",
        "*   ReLU Model:\n",
        "\n",
        "Provides the highest accuracy (97.27%) and is generally preferred in deep networks due to its efficiency in training and learning.Generally provides better performance in practice due to faster training and better handling of gradients.\n",
        "*   Tanh Model:\n",
        "\n",
        "Better than sigmoid but less effective than ReLU in mitigating gradient issues and achieving higher accuracy.\n",
        "*   Sigmoid Model:\n",
        "\n",
        "Least effective in this context due to its limitations with gradient flow and slower convergence."
      ],
      "metadata": {
        "id": "OQFAGB-blcOE"
      },
      "id": "OQFAGB-blcOE"
    },
    {
      "cell_type": "markdown",
      "source": [
        "## For most modern neural networks, ReLU or its variants (like Leaky ReLU or Parametric ReLU) are preferred due to their superior performance and efficiency in training."
      ],
      "metadata": {
        "id": "heVEOz8WmTCN"
      },
      "id": "heVEOz8WmTCN"
    }
  ],
  "metadata": {
    "kernelspec": {
      "display_name": "Python 3 (ipykernel)",
      "language": "python",
      "name": "python3"
    },
    "language_info": {
      "codemirror_mode": {
        "name": "ipython",
        "version": 3
      },
      "file_extension": ".py",
      "mimetype": "text/x-python",
      "name": "python",
      "nbconvert_exporter": "python",
      "pygments_lexer": "ipython3",
      "version": "3.12.4"
    },
    "colab": {
      "provenance": []
    }
  },
  "nbformat": 4,
  "nbformat_minor": 5
}